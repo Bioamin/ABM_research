{
 "cells": [
  {
   "cell_type": "code",
   "execution_count": 1,
   "metadata": {
    "collapsed": true
   },
   "outputs": [],
   "source": [
    "#!/usr/bin/python3\n",
    "__version__ = \"3\"\n",
    "###############################################################################\n",
    "# Amin Boroomand\n",
    "# summer 2020\n",
    "#\n",
    "#\n",
    "# Procedure: delete fist 6 rows, sort by steps, compute the average of average-score for each step\n",
    "# make average-score vs step plot. The same procedure for number-of-unique-solutions\n",
    "#just paste the filename and modify the plot name and this code works properly\n",
    "#############################################################################"
   ]
  },
  {
   "cell_type": "code",
   "execution_count": 2,
   "metadata": {},
   "outputs": [
    {
     "name": "stderr",
     "output_type": "stream",
     "text": [
      "/home/amin/anaconda3/lib/python3.6/site-packages/ipykernel_launcher.py:8: UserWarning: \n",
      "This call to matplotlib.use() has no effect because the backend has already\n",
      "been chosen; matplotlib.use() must be called *before* pylab, matplotlib.pyplot,\n",
      "or matplotlib.backends is imported for the first time.\n",
      "\n",
      "The backend was *originally* set to 'nbAgg' by the following code:\n",
      "  File \"/home/amin/anaconda3/lib/python3.6/runpy.py\", line 193, in _run_module_as_main\n",
      "    \"__main__\", mod_spec)\n",
      "  File \"/home/amin/anaconda3/lib/python3.6/runpy.py\", line 85, in _run_code\n",
      "    exec(code, run_globals)\n",
      "  File \"/home/amin/anaconda3/lib/python3.6/site-packages/ipykernel_launcher.py\", line 16, in <module>\n",
      "    app.launch_new_instance()\n",
      "  File \"/home/amin/anaconda3/lib/python3.6/site-packages/traitlets/config/application.py\", line 658, in launch_instance\n",
      "    app.start()\n",
      "  File \"/home/amin/anaconda3/lib/python3.6/site-packages/ipykernel/kernelapp.py\", line 477, in start\n",
      "    ioloop.IOLoop.instance().start()\n",
      "  File \"/home/amin/anaconda3/lib/python3.6/site-packages/zmq/eventloop/ioloop.py\", line 177, in start\n",
      "    super(ZMQIOLoop, self).start()\n",
      "  File \"/home/amin/anaconda3/lib/python3.6/site-packages/tornado/ioloop.py\", line 888, in start\n",
      "    handler_func(fd_obj, events)\n",
      "  File \"/home/amin/anaconda3/lib/python3.6/site-packages/tornado/stack_context.py\", line 277, in null_wrapper\n",
      "    return fn(*args, **kwargs)\n",
      "  File \"/home/amin/anaconda3/lib/python3.6/site-packages/zmq/eventloop/zmqstream.py\", line 440, in _handle_events\n",
      "    self._handle_recv()\n",
      "  File \"/home/amin/anaconda3/lib/python3.6/site-packages/zmq/eventloop/zmqstream.py\", line 472, in _handle_recv\n",
      "    self._run_callback(callback, msg)\n",
      "  File \"/home/amin/anaconda3/lib/python3.6/site-packages/zmq/eventloop/zmqstream.py\", line 414, in _run_callback\n",
      "    callback(*args, **kwargs)\n",
      "  File \"/home/amin/anaconda3/lib/python3.6/site-packages/tornado/stack_context.py\", line 277, in null_wrapper\n",
      "    return fn(*args, **kwargs)\n",
      "  File \"/home/amin/anaconda3/lib/python3.6/site-packages/ipykernel/kernelbase.py\", line 283, in dispatcher\n",
      "    return self.dispatch_shell(stream, msg)\n",
      "  File \"/home/amin/anaconda3/lib/python3.6/site-packages/ipykernel/kernelbase.py\", line 235, in dispatch_shell\n",
      "    handler(stream, idents, msg)\n",
      "  File \"/home/amin/anaconda3/lib/python3.6/site-packages/ipykernel/kernelbase.py\", line 399, in execute_request\n",
      "    user_expressions, allow_stdin)\n",
      "  File \"/home/amin/anaconda3/lib/python3.6/site-packages/ipykernel/ipkernel.py\", line 196, in do_execute\n",
      "    res = shell.run_cell(code, store_history=store_history, silent=silent)\n",
      "  File \"/home/amin/anaconda3/lib/python3.6/site-packages/ipykernel/zmqshell.py\", line 533, in run_cell\n",
      "    return super(ZMQInteractiveShell, self).run_cell(*args, **kwargs)\n",
      "  File \"/home/amin/anaconda3/lib/python3.6/site-packages/IPython/core/interactiveshell.py\", line 2698, in run_cell\n",
      "    interactivity=interactivity, compiler=compiler, result=result)\n",
      "  File \"/home/amin/anaconda3/lib/python3.6/site-packages/IPython/core/interactiveshell.py\", line 2802, in run_ast_nodes\n",
      "    if self.run_code(code, result):\n",
      "  File \"/home/amin/anaconda3/lib/python3.6/site-packages/IPython/core/interactiveshell.py\", line 2862, in run_code\n",
      "    exec(code_obj, self.user_global_ns, self.user_ns)\n",
      "  File \"<ipython-input-2-26bff2ba808c>\", line 2, in <module>\n",
      "    get_ipython().magic('matplotlib notebook')\n",
      "  File \"/home/amin/anaconda3/lib/python3.6/site-packages/IPython/core/interactiveshell.py\", line 2146, in magic\n",
      "    return self.run_line_magic(magic_name, magic_arg_s)\n",
      "  File \"/home/amin/anaconda3/lib/python3.6/site-packages/IPython/core/interactiveshell.py\", line 2067, in run_line_magic\n",
      "    result = fn(*args,**kwargs)\n",
      "  File \"<decorator-gen-107>\", line 2, in matplotlib\n",
      "  File \"/home/amin/anaconda3/lib/python3.6/site-packages/IPython/core/magic.py\", line 187, in <lambda>\n",
      "    call = lambda f, *a, **k: f(*a, **k)\n",
      "  File \"/home/amin/anaconda3/lib/python3.6/site-packages/IPython/core/magics/pylab.py\", line 99, in matplotlib\n",
      "    gui, backend = self.shell.enable_matplotlib(args.gui)\n",
      "  File \"/home/amin/anaconda3/lib/python3.6/site-packages/IPython/core/interactiveshell.py\", line 2930, in enable_matplotlib\n",
      "    pt.activate_matplotlib(backend)\n",
      "  File \"/home/amin/anaconda3/lib/python3.6/site-packages/IPython/core/pylabtools.py\", line 307, in activate_matplotlib\n",
      "    matplotlib.pyplot.switch_backend(backend)\n",
      "  File \"/home/amin/anaconda3/lib/python3.6/site-packages/matplotlib/pyplot.py\", line 229, in switch_backend\n",
      "    matplotlib.use(newbackend, warn=False, force=True)\n",
      "  File \"/home/amin/anaconda3/lib/python3.6/site-packages/matplotlib/__init__.py\", line 1305, in use\n",
      "    reload(sys.modules['matplotlib.backends'])\n",
      "  File \"/home/amin/anaconda3/lib/python3.6/importlib/__init__.py\", line 166, in reload\n",
      "    _bootstrap._exec(spec, module)\n",
      "  File \"/home/amin/anaconda3/lib/python3.6/site-packages/matplotlib/backends/__init__.py\", line 14, in <module>\n",
      "    line for line in traceback.format_stack()\n",
      "\n",
      "\n",
      "  \n"
     ]
    }
   ],
   "source": [
    "#Imports\n",
    "%matplotlib notebook\n",
    "import os\n",
    "import pandas as pd\n",
    "from copy import deepcopy\n",
    "import numpy as np\n",
    "import matplotlib\n",
    "matplotlib.use('AGG')\n",
    "import matplotlib.pyplot as plt\n",
    "import fnmatch\n",
    "import statistics as st"
   ]
  },
  {
   "cell_type": "code",
   "execution_count": 3,
   "metadata": {
    "collapsed": true
   },
   "outputs": [],
   "source": [
    "import re   # to sort numbers numerically \n",
    "numbers = re.compile(r'(\\d+)')\n",
    "def numericalSort(value):\n",
    "    parts = numbers.split(value)\n",
    "    parts[1::2] = map(int, parts[1::2])\n",
    "    return parts"
   ]
  },
  {
   "cell_type": "code",
   "execution_count": 11,
   "metadata": {
    "collapsed": true
   },
   "outputs": [],
   "source": []
  },
  {
   "cell_type": "code",
   "execution_count": 43,
   "metadata": {},
   "outputs": [
    {
     "name": "stdout",
     "output_type": "stream",
     "text": [
      "2020_20Normal_K0_ring4.csv\n",
      "1\n",
      "2020_20RT2_K0_ring4.csv\n",
      "2\n",
      "2020_20RT3_K0_ring4.csv\n",
      "3\n",
      "2020_20RT4_K0_ring4.csv\n",
      "4\n",
      "2020_20RT5_K0_ring4.csv\n",
      "5\n",
      "2020_20RT6_K0_ring4.csv\n",
      "6\n",
      "2020_20RT7_K0_ring4.csv\n",
      "7\n",
      "2020_20RT8_K0_ring4.csv\n",
      "8\n",
      "2020_20RT9_K0_ring4.csv\n",
      "9\n",
      "2020_20RT10_K0_ring4.csv\n",
      "10\n",
      "2020_20RT11_K0_ring4.csv\n",
      "11\n",
      "2020_20RT12_K0_ring4.csv\n",
      "12\n",
      "2020_20RT13_K0_ring4.csv\n",
      "13\n",
      "2020_20RT14_K0_ring4.csv\n",
      "14\n",
      "2020_20RT15_K0_ring4.csv\n",
      "15\n",
      "2020_20RT16_K0_ring4.csv\n",
      "16\n",
      "2020_20RT17_K0_ring4.csv\n",
      "17\n",
      "2020_20RT18_K0_ring4.csv\n",
      "18\n",
      "2020_20RT19_K0_ring4.csv\n",
      "19\n",
      "2020_20RT20_K0_ring4.csv\n",
      "20\n"
     ]
    }
   ],
   "source": [
    "WDaddress=\"/home/amin/ABM_Research/2020_20RT_k0/\"\n",
    "os.chdir(WDaddress)  #set the working directory\n",
    "max_score_array=[]\n",
    "max_step_array=[]\n",
    "max_score_mean_list=[]\n",
    "max_step_mean_list=[]\n",
    "n=0\n",
    "_20HWK10 = pd.DataFrame([])\n",
    "_20RTK0 = pd.DataFrame([])\n",
    "_100HWK0 = pd.DataFrame([])\n",
    "testpd = pd.DataFrame([])\n",
    "\n",
    "for filename in sorted(os.listdir(WDaddress),key=numericalSort):     \n",
    "    if fnmatch.fnmatch(filename, '*.csv'):   #if the files in the folder match this pattern\n",
    "        print(filename)\n",
    "        n=n+1\n",
    "        print(n)\n",
    "        max_score_list_ind=[] #list of maximum stop of each run, 100 in this case\n",
    "        max_step_list_ind=[]  #list of maximum step of each run, 100 in this case\n",
    "        Raw_file=pd.read_csv(filename, skiprows=6,sep=',',error_bad_lines=False,comment=\"#\" ,header=0) \n",
    "        Raw_file.rename(columns={'[run number]':'run_number'}, inplace=True)\n",
    "        Raw_file.rename(columns={'average-score':'average_score'}, inplace=True)\n",
    "        Raw_file.rename(columns={'[step]':'step'}, inplace=True)\n",
    "        Raw_file = Raw_file.drop('enable-space-analysis', 1)\n",
    "        Raw_file=Raw_file.sort_values([ 'run_number', 'step']).reset_index()\n",
    "        Max_scores=Raw_file.groupby(['run_number'], sort=False)['average_score'].max().reset_index() \n",
    "        max_score_list_ind=Max_scores[\"average_score\"].tolist()  #list of maximum scores of each run\n",
    "        max_score_array.append(max_score_list_ind)\n",
    "        max_score_mean=Max_scores[\"average_score\"].mean()  #average score of all runs. 100 in this case\n",
    "        index_of_1st_hg_scre =Raw_file.groupby(['run_number'], sort=False)['average_score'].idxmax().reset_index()\n",
    "        indx_list_1st_hgScr=index_of_1st_hg_scre['average_score'].tolist()\n",
    "        for i in indx_list_1st_hgScr:\n",
    "            max_step=Raw_file.iloc[i]['step']\n",
    "            max_step_list_ind.append(max_step)\n",
    "        max_score_mean_list.append(max_score_mean)\n",
    "        max_step_mean_list.append(maxstep_mean)\n",
    "        testpd['time'] = max_step_list_ind\n",
    "        testpd['score'] = max_score_list_ind\n",
    "        testpd['RT_Level'] = pd.Series([n for x in range(len(testpd.index))])\n",
    "        testpd['Experiment'] = pd.Series([\"20RT_K0\" for x in range(len(testpd.index))])\n",
    "        _20RTK0 = _20RTK0.append(testpd)\n",
    "        \n",
    "        #print(testpd)\n",
    "_20RTK0.to_csv(\"_20RTK0.csv\", encoding='utf-8', index=False)\n",
    "        #maxstep_mean=st.mean(max_step_list_ind)\n",
    "        #max_step_array.append(max_step_list_ind)\n",
    "        #print(max_step_list_ind)\n",
    "        #print(maxstep_mean)\n",
    "        #print(max_score_list_ind)\n",
    "        #print(max_score_mean)\n",
    "\n",
    "# print(max_score_mean_list)\n",
    "# print(max_step_mean_list)\n",
    "# print(max_score_array)\n",
    "# print(max_step_array)"
   ]
  },
  {
   "cell_type": "code",
   "execution_count": 44,
   "metadata": {},
   "outputs": [
    {
     "name": "stdout",
     "output_type": "stream",
     "text": [
      "      time     score  RT_Level Experiment\n",
      "0        0  1.000000         1    20RT_K0\n",
      "1       11  0.953271         1    20RT_K0\n",
      "2       13  0.987796         1    20RT_K0\n",
      "3       12  0.992004         1    20RT_K0\n",
      "4       10  0.975062         1    20RT_K0\n",
      "5        9  0.860155         1    20RT_K0\n",
      "6        8  0.952233         1    20RT_K0\n",
      "7       13  0.969037         1    20RT_K0\n",
      "8       12  0.923986         1    20RT_K0\n",
      "9        8  0.983946         1    20RT_K0\n",
      "10      10  0.981501         1    20RT_K0\n",
      "11      12  0.984179         1    20RT_K0\n",
      "12       9  0.931260         1    20RT_K0\n",
      "13       9  0.983808         1    20RT_K0\n",
      "14      12  0.967373         1    20RT_K0\n",
      "15       9  0.999034         1    20RT_K0\n",
      "16      11  0.919731         1    20RT_K0\n",
      "17      10  0.987375         1    20RT_K0\n",
      "18      11  0.982938         1    20RT_K0\n",
      "19       8  0.911182         1    20RT_K0\n",
      "20      10  0.920316         1    20RT_K0\n",
      "21      12  0.979890         1    20RT_K0\n",
      "22      11  0.952093         1    20RT_K0\n",
      "23      12  0.938427         1    20RT_K0\n",
      "24       9  0.986261         1    20RT_K0\n",
      "25       9  0.919942         1    20RT_K0\n",
      "26       7  0.993279         1    20RT_K0\n",
      "27      11  0.967041         1    20RT_K0\n",
      "28       9  0.986116         1    20RT_K0\n",
      "29      11  0.999480         1    20RT_K0\n",
      "...    ...       ...       ...        ...\n",
      "1970   104  0.659187        20    20RT_K0\n",
      "1971     6  0.280050        20    20RT_K0\n",
      "1972    35  0.789819        20    20RT_K0\n",
      "1973    16  0.276033        20    20RT_K0\n",
      "1974     8  0.634913        20    20RT_K0\n",
      "1975    31  0.752336        20    20RT_K0\n",
      "1976    13  0.716576        20    20RT_K0\n",
      "1977    21  0.607476        20    20RT_K0\n",
      "1978     6  0.988836        20    20RT_K0\n",
      "1979    25  0.517504        20    20RT_K0\n",
      "1980    13  0.919110        20    20RT_K0\n",
      "1981    10  0.988296        20    20RT_K0\n",
      "1982   112  0.647381        20    20RT_K0\n",
      "1983    30  0.694106        20    20RT_K0\n",
      "1984    61  0.969324        20    20RT_K0\n",
      "1985    37  0.457390        20    20RT_K0\n",
      "1986    18  0.556127        20    20RT_K0\n",
      "1987    35  0.727275        20    20RT_K0\n",
      "1988    21  0.785740        20    20RT_K0\n",
      "1989    49  0.894342        20    20RT_K0\n",
      "1990     9  0.528178        20    20RT_K0\n",
      "1991    63  0.958774        20    20RT_K0\n",
      "1992   106  0.977929        20    20RT_K0\n",
      "1993    29  0.761083        20    20RT_K0\n",
      "1994   106  0.721963        20    20RT_K0\n",
      "1995     8  0.604892        20    20RT_K0\n",
      "1996    12  0.456502        20    20RT_K0\n",
      "1997    34  0.858510        20    20RT_K0\n",
      "1998    64  0.881086        20    20RT_K0\n",
      "1999    23  0.789275        20    20RT_K0\n",
      "\n",
      "[2000 rows x 4 columns]\n"
     ]
    }
   ],
   "source": [
    "Raw_file_1=pd.read_csv(\"_20RTK0.csv\",sep=',',error_bad_lines=False,comment=\"#\" ,header=0)\n",
    "print(Raw_file_1)"
   ]
  },
  {
   "cell_type": "code",
   "execution_count": null,
   "metadata": {
    "collapsed": true
   },
   "outputs": [],
   "source": []
  },
  {
   "cell_type": "code",
   "execution_count": null,
   "metadata": {
    "collapsed": true
   },
   "outputs": [],
   "source": []
  },
  {
   "cell_type": "code",
   "execution_count": 90,
   "metadata": {
    "collapsed": true
   },
   "outputs": [],
   "source": [
    "df_new=df.groupby(['A'], sort=False)['B'].idxmax().reset_index()\n",
    "index_list=df_new['B'].tolist()"
   ]
  },
  {
   "cell_type": "code",
   "execution_count": 99,
   "metadata": {},
   "outputs": [
    {
     "name": "stdout",
     "output_type": "stream",
     "text": [
      "8\n",
      "11\n",
      "4\n"
     ]
    }
   ],
   "source": [
    "index_list\n",
    "for i in index_list:\n",
    "    t=df.iloc[i]['B']\n",
    "    print(t)"
   ]
  },
  {
   "cell_type": "code",
   "execution_count": 82,
   "metadata": {},
   "outputs": [
    {
     "data": {
      "text/plain": [
       "8"
      ]
     },
     "execution_count": 82,
     "metadata": {},
     "output_type": "execute_result"
    }
   ],
   "source": [
    "#df.A.ne('a').idxmax()\n",
    "\n",
    "df.iloc[df.A.idxmax()]['B']"
   ]
  },
  {
   "cell_type": "code",
   "execution_count": 66,
   "metadata": {},
   "outputs": [
    {
     "ename": "TypeError",
     "evalue": "'DataFrame' object is not callable",
     "output_type": "error",
     "traceback": [
      "\u001b[0;31m---------------------------------------------------------------------------\u001b[0m",
      "\u001b[0;31mTypeError\u001b[0m                                 Traceback (most recent call last)",
      "\u001b[0;32m<ipython-input-66-53b3acb59c0b>\u001b[0m in \u001b[0;36m<module>\u001b[0;34m()\u001b[0m\n\u001b[0;32m----> 1\u001b[0;31m \u001b[0mdf\u001b[0m\u001b[0;34m(\u001b[0m\u001b[0;36m2\u001b[0m\u001b[0;34m)\u001b[0m\u001b[0;34m\u001b[0m\u001b[0m\n\u001b[0m",
      "\u001b[0;31mTypeError\u001b[0m: 'DataFrame' object is not callable"
     ]
    }
   ],
   "source": []
  },
  {
   "cell_type": "code",
   "execution_count": null,
   "metadata": {
    "collapsed": true
   },
   "outputs": [],
   "source": []
  }
 ],
 "metadata": {
  "kernelspec": {
   "display_name": "Python 3",
   "language": "python",
   "name": "python3"
  },
  "language_info": {
   "codemirror_mode": {
    "name": "ipython",
    "version": 3
   },
   "file_extension": ".py",
   "mimetype": "text/x-python",
   "name": "python",
   "nbconvert_exporter": "python",
   "pygments_lexer": "ipython3",
   "version": "3.6.3"
  }
 },
 "nbformat": 4,
 "nbformat_minor": 2
}
