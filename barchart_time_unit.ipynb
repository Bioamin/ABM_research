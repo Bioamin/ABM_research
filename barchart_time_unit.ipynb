{
 "cells": [
  {
   "cell_type": "code",
   "execution_count": 1,
   "metadata": {
    "collapsed": true
   },
   "outputs": [],
   "source": [
    "%matplotlib inline"
   ]
  },
  {
   "cell_type": "markdown",
   "metadata": {},
   "source": [
    "\n",
    "# Grouped bar chart with labels\n",
    "\n",
    "\n",
    "This example shows a how to create a grouped bar chart and how to annotate\n",
    "bars with labels.\n"
   ]
  },
  {
   "cell_type": "code",
   "execution_count": 2,
   "metadata": {},
   "outputs": [
    {
     "data": {
      "image/png": "[encoded data removed]",
      "text/plain": [
       "<matplotlib.figure.Figure at 0x7fbb8b72acc0>"
      ]
     },
     "metadata": {},
     "output_type": "display_data"
    }
   ],
   "source": [
    "import matplotlib\n",
    "import matplotlib.pyplot as plt\n",
    "import numpy as np\n",
    "import os\n",
    "WDaddress=\"/home/amin/ABM_Research/sep19_data_generator/\"\n",
    "os.chdir(WDaddress)  #set the working directory\n",
    "\n",
    "#Network_degree_list=[1,5,10]\n",
    "###K=10#####\n",
    "# max_score_mean_list [0.15583102914223967, 0.252553302694484, 0.21512152220829356, 0.21129041933816797]\n",
    "# max_score_std_list [0.1280003219010811, 0.15237363470266302, 0.12866448683821424, 0.13330592006125097]\n",
    "# maxstep_mean_list [3.02, 6.24, 5.85, 5.62]\n",
    "# maxstep_std_list [0.5501147722305433, 3.3154672720935183, 2.731688344617886, 2.8204878151042463]\n",
    "\n",
    "####K=1###\n",
    "# max_score_mean_list [0.33144938530800794, 0.6476986969405553, 0.5072331376945176, 0.44346896267563934]\n",
    "# max_score_std_list [0.22368611065572738, 0.24089401898032742, 0.2512922218928839, 0.24424518655703087]\n",
    "# maxstep_mean_list [2.93, 9.36, 6.8, 6.09]\n",
    "# maxstep_std_list [0.5366374921488412, 3.854736034930263, 3.0117614564747774, 2.5862691040933616]\n",
    "\n",
    "labels = ['Linear','Lattice','Small_world','Fully_connected']\n",
    "men_means = [5.08 ,1.91 ,1.64 , 1]\n",
    "menStd = [ 0.8724747109298477 ,0.5522223238420324 ,0.5949280577846316 , 0.12]\n",
    "\n",
    "women_means = [4.836734693877551 ,1.9545454545454546 ,1.6785714285714286 ,  1]\n",
    "womenStd = [0.9649468632933067 , 0.6082588744530995 ,0.5083714768174531 , 0.1]\n",
    "\n",
    "x = np.arange(len(labels))  # the label locations\n",
    "width = 0.35  # the width of the bars\n",
    "\n",
    "fig, ax = plt.subplots()\n",
    "rects1 = ax.bar(x - width/2, men_means, width, yerr=menStd,label='K=10')\n",
    "rects2 = ax.bar(x + width/2, women_means, width, yerr=menStd,label='K=1')\n",
    "\n",
    "\n",
    "# Add some text for labels, title and custom x-axis tick labels, etc.\n",
    "ax.set_ylabel('Time Unit', fontsize=15)\n",
    "ax.set_title('Team of Normal agents ', fontsize=10)\n",
    "ax.set_xticks(x)\n",
    "ax.set_xticklabels(labels, fontsize=12)\n",
    "#ax.set_ylim(0, 10)\n",
    "ax.legend(loc = 'upper right', fontsize=10)\n",
    "\n",
    "\n",
    "def autolabel(rects):\n",
    "    \"\"\"Attach a text label above each bar in *rects*, displaying its height.\"\"\"\n",
    "    for rect in rects:\n",
    "        height = rect.get_height()\n",
    "        ax.annotate('{}'.format(height),\n",
    "                    xy=(rect.get_x() + rect.get_width() / 2, height),\n",
    "                    xytext=(0, 3),  # 3 points vertical offset\n",
    "                    textcoords=\"offset points\",\n",
    "                    ha='center', va='bottom')\n",
    "\n",
    "\n",
    "#autolabel(rects1)\n",
    "#autolabel(rects2)\n",
    "\n",
    "fig.tight_layout()\n",
    "\n",
    "\n",
    "plt.savefig('Normal_agents_dif_network_Time_unit.png',dpi = 1000)\n",
    "plt.show()"
   ]
  },
  {
   "cell_type": "markdown",
   "metadata": {},
   "source": [
    "------------\n",
    "\n",
    "References\n",
    "\"\"\"\"\"\"\"\"\"\"\n",
    "\n",
    "The use of the following functions, methods and classes is shown\n",
    "in this example:\n",
    "\n"
   ]
  },
  {
   "cell_type": "code",
   "execution_count": 3,
   "metadata": {},
   "outputs": [
    {
     "data": {
      "text/plain": [
       "<function matplotlib.pyplot.annotate>"
      ]
     },
     "execution_count": 3,
     "metadata": {},
     "output_type": "execute_result"
    }
   ],
   "source": [
    "matplotlib.axes.Axes.bar\n",
    "matplotlib.pyplot.bar\n",
    "matplotlib.axes.Axes.annotate\n",
    "matplotlib.pyplot.annotate"
   ]
  },
  {
   "cell_type": "code",
   "execution_count": 10,
   "metadata": {},
   "outputs": [
    {
     "name": "stdout",
     "output_type": "stream",
     "text": [
      "   mean1  mean2  std1  std2\n",
      "A      4      6     1     3\n",
      "B      5      7     5     2\n"
     ]
    },
    {
     "data": {
      "image/png": "[encoded data removed]",
      "text/plain": [
       "<matplotlib.figure.Figure at 0x7fbb78c5a198>"
      ]
     },
     "metadata": {},
     "output_type": "display_data"
    }
   ],
   "source": [
    "import pandas as pd\n",
    "import matplotlib.pyplot as plt\n",
    "df = pd.DataFrame([[4,6,1,3], [5,7,5,2]], columns = ['mean1', 'mean2', 'std1', 'std2'], index=['A', 'B'])\n",
    "print(df)\n",
    "\n",
    "df[['mean1', 'mean2']].plot(kind='bar', yerr=df[['std1', 'std2']].values.T, alpha = 0.5,error_kw=dict(ecolor='k'))\n",
    "plt.show()"
   ]
  },
  {
   "cell_type": "code",
   "execution_count": 30,
   "metadata": {},
   "outputs": [
    {
     "data": {
      "image/png": "[encoded data removed]",
      "text/plain": [
       "<matplotlib.figure.Figure at 0x7fbb78a993c8>"
      ]
     },
     "metadata": {},
     "output_type": "display_data"
    }
   ],
   "source": [
    "Label_names=[\"1\",\"2\",\"3\",\"4\",\"5\",\"6\",\"7\",\"8\",\"9\",\"10\",\"11\",\"12\",\"13\",\"14\",\"15\",\"16\",\"17\",\"18\",\"19\",\"20\"]\n",
    "K10 = [4.54, 3.93, 4.12, 3.94, 3.75, 3.58, 3.5, 3.42, 3.33, 2.98, 3.06, 3.07, 2.93, 2.96, 3.02, 2.76, 2.86, 2.8, 2.75, 2.77]\n",
    "K0 = [9.22, 7.88, 6.42, 5.95, 5.01, 4.91, 4.4, 4.39, 3.79, 3.59, 3.52, 3.6, 3.39, 2.96, 2.94, 3.06, 3.18, 2.62, 2.83, 2.42]\n",
    "\n",
    "\n",
    "labels=Label_names\n",
    "y1 = K10#np.cos(2 * np.pi * x1) * np.exp(-x1)\n",
    "y2 = K0 #np.cos(2 * np.pi * x2)\n",
    "\n",
    "#marktype https://matplotlib.org/3.1.1/api/markers_api.html\n",
    "\n",
    "plt.plot(y1, 'o-', label='K=10',markersize=10, linewidth=3.0)\n",
    "plt.plot(y2, '^-',label='K=0', markersize=10,linewidth=3.0)\n",
    "\n",
    "#plt.title('100 Runs')\n",
    "plt.ylabel('score',fontsize=15)\n",
    "plt.xlabel('Level of hard working',fontsize=15)\n",
    "\n",
    "plt.xticks(np.arange(len(labels)), labels)\n",
    "\n",
    "\n",
    "\n",
    "\n",
    "\n",
    "\n",
    "plt.ylim(-2, 15) \n",
    "\n",
    "plt.legend(loc = 'upper right', fontsize=10)\n",
    "\n",
    "\n",
    "fig.tight_layout()\n",
    "# get the lines and texts inside legend box\n",
    "\n",
    "leg = plt.legend()\n",
    "leg_lines = leg.get_lines()\n",
    "leg_texts = leg.get_texts()\n",
    "plt.setp(leg_lines, linewidth=2)\n",
    "plt.setp(leg_texts, fontsize='x-large')\n",
    "matplotlib.rc('xtick', labelsize=25) \n",
    "matplotlib.rc('ytick', labelsize=15) \n",
    "\n",
    "\n",
    "\n",
    "# xmin, xmax = ax.get_xlim()\n",
    "# custom_ticks = np.linspace(1,20, 5, dtype=int)\n",
    "# ax.set_xticks(custom_ticks)\n",
    "# ax.set_xticklabels(custom_ticks)\n",
    "plt.savefig('./test.png',dpi = 1000)\n",
    "\n",
    "\n",
    "\n",
    "\n",
    "ax = plt.gca()\n",
    "temp = ax.xaxis.get_ticklabels()\n",
    "temp = list(set(temp) - set(temp[0:1:]) - set(temp[4::5]))\n",
    "\n",
    "\n",
    "for label in temp:\n",
    "    label.set_visible(False)\n",
    "plt.show()\n",
    "plt.close()"
   ]
  },
  {
   "cell_type": "code",
   "execution_count": null,
   "metadata": {},
   "outputs": [],
   "source": []
  },
  {
   "cell_type": "code",
   "execution_count": 31,
   "metadata": {},
   "outputs": [
    {
     "data": {
      "image/png": "[encoded data removed]",
      "text/plain": [
       "<matplotlib.figure.Figure at 0x7fbb7878e9e8>"
      ]
     },
     "metadata": {},
     "output_type": "display_data"
    }
   ],
   "source": [
    "\n",
    "# Create lists for the plot\n",
    "materials = Label_names\n",
    "x_pos = np.arange(len(materials))\n",
    "CTEs = K10\n",
    "error = K0 \n",
    "\n",
    "fig, ax = plt.subplots()\n",
    "ax.bar(x_pos, CTEs, yerr=error, align='center', alpha=0.5, ecolor='black', capsize=10)\n",
    "ax.yaxis.grid(True)\n",
    "plt.title('20 fast 5x Agents, N=20, K=5, ring lattice network ')\n",
    "plt.ylabel('score',fontsize=15)\n",
    "plt.xlabel('Level of hard working',fontsize=15)\n",
    "plt.xticks(np.arange(len(labels)), labels)\n",
    "plt.ylim(0, 10) \n",
    "\n",
    "# Save the figure and show\n",
    "plt.legend(loc = 'upper right', fontsize=10)\n",
    "fig.tight_layout()\n",
    "matplotlib.rc('xtick', labelsize=25) \n",
    "matplotlib.rc('ytick', labelsize=15) \n",
    "ax = plt.gca()\n",
    "temp = ax.xaxis.get_ticklabels()\n",
    "temp = list(set(temp) - set(temp[0:1:]) - set(temp[4::5]))\n",
    "for label in temp:\n",
    "    label.set_visible(False)\n",
    "plt.savefig('./1test.png',dpi = 1000)\n",
    "plt.show()\n",
    "plt.close()"
   ]
  },
  {
   "cell_type": "code",
   "execution_count": null,
   "metadata": {
    "collapsed": true
   },
   "outputs": [],
   "source": []
  },
  {
   "cell_type": "code",
   "execution_count": null,
   "metadata": {
    "collapsed": true
   },
   "outputs": [],
   "source": []
  }
 ],
 "metadata": {
  "kernelspec": {
   "display_name": "Python 3",
   "language": "python",
   "name": "python3"
  },
  "language_info": {
   "codemirror_mode": {
    "name": "ipython",
    "version": 3
   },
   "file_extension": ".py",
   "mimetype": "text/x-python",
   "name": "python",
   "nbconvert_exporter": "python",
   "pygments_lexer": "ipython3",
   "version": "3.6.3"
  }
 },
 "nbformat": 4,
 "nbformat_minor": 1
}
